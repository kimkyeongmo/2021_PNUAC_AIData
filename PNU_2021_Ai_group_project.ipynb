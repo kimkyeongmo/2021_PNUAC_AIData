{
  "nbformat": 4,
  "nbformat_minor": 0,
  "metadata": {
    "colab": {
      "provenance": [],
      "mount_file_id": "1b8Ma_0u38-RuRZkQzUkepOcdUyvPyXS5",
      "authorship_tag": "ABX9TyPDlFF9ac1FUy7azTmr2Q28",
      "include_colab_link": true
    },
    "kernelspec": {
      "name": "python3",
      "display_name": "Python 3"
    },
    "language_info": {
      "name": "python"
    }
  },
  "cells": [
    {
      "cell_type": "markdown",
      "metadata": {
        "id": "view-in-github",
        "colab_type": "text"
      },
      "source": [
        "<a href=\"https://colab.research.google.com/github/kimkyeongmo/2021_PNUAC_AIData/blob/main/PNU_2021_Ai_group_project.ipynb\" target=\"_parent\"><img src=\"https://colab.research.google.com/assets/colab-badge.svg\" alt=\"Open In Colab\"/></a>"
      ]
    },
    {
      "cell_type": "markdown",
      "metadata": {
        "id": "HCSZSVTnYVRB"
      },
      "source": [
        "# 팀번호 : 12\n",
        "# 김경모, 박찬솔, 유승민, 전무강\n",
        "## 주택 가격 데이터셋을 주택 가격 예측\n",
        "\n",
        "### 사이킷런을 이용한 머신러닝 과정\n",
        "\n",
        "##주제: 주택 가격 예측\n",
        "###주제 선정 이유:\n",
        "+ 요즘 암호화폐를 통해 불안정한 수익을 내는데, 안정한 수익을 위해 집을 알아보고자 주택가격을 예측하기위해 선정하게 됨\n",
        " - dataset 속성을 통해 예측을 함\n",
        "\n",
        "> from sklearn.datasets import fetch_california_housing   #내장된 데이터셋\n",
        "\n",
        " - MedInc - 거리 평균 수입\n",
        " - HouseAge - 거리 내 집의 평균 나이\n",
        " - AveRooms - 평균 방의 수\n",
        " - AveBedrms - 평균 화장실 수\n",
        " - Popluation - 거리 내 평균 거주자 수\n",
        " - AveOccup - 거리 내 평균 거주율\n",
        " - Latitude.Lonitude - 거리 위/경도\n"
      ]
    },
    {
      "cell_type": "code",
      "metadata": {
        "id": "cH0SZmTC5Nok",
        "colab": {
          "base_uri": "https://localhost:8080/"
        },
        "outputId": "0b524bac-ba27-4aac-91e5-26428c88dd10"
      },
      "source": [
        "import sklearn\n",
        "import numpy as np\n",
        "import pandas as pd\n",
        "from sklearn.linear_model import LinearRegression       #선형회귀\n",
        "from sklearn.datasets import fetch_california_housing   #내장된 데이터셋\n",
        "from sklearn.model_selection import train_test_split    \n",
        "from sklearn import model_selection                     #교차 검증을 위해 데이터를 학습/테스트용으로 분리, 최적 파라미터를 추출하는 API 제공\n",
        "from sklearn import metrics                             #분류, 회귀,클러스터링, pairwise에 대한 다양한 성능 측정 방법 제공\n",
        "housing = fetch_california_housing()                    \n",
        "\n",
        "i_data = housing.data                                   # i_data.shape == (20640 , 8)   /   i_data == Attribute\n",
        "print(type(i_data))\n",
        "i_target = housing.target                               # i_target.shape == (20640, )\n",
        "X_train, X_test, y_train, y_test = train_test_split(i_data, i_target,test_size=0.3)   #데이터 세트를 학습 데이터와 테스트 데이터로 분리함\n",
        "lc = LinearRegression()\n",
        "lc.fit(X_train, y_train)\n",
        "p = lc.predict(X_test)\n",
        "np.savetxt('y_pred.csv', p, fmt='%d')                   # 단위 : USD\n",
        "score_ytest = metrics.r2_score(y_test, p)               # 정확성 측정\n",
        "#print(score)                                            # 1.0에 가까울수록 정확성이 올라간다."
      ],
      "execution_count": null,
      "outputs": [
        {
          "output_type": "stream",
          "name": "stdout",
          "text": [
            "<class 'numpy.ndarray'>\n"
          ]
        }
      ]
    }
  ]
}