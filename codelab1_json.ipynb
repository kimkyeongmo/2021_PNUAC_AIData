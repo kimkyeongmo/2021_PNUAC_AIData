{
  "nbformat": 4,
  "nbformat_minor": 0,
  "metadata": {
    "colab": {
      "name": "codelab1_json.ipynb",
      "provenance": [],
      "mount_file_id": "1NDI_BPmrYcJT3Y25vbkenroHiFVimorY",
      "authorship_tag": "ABX9TyPirBxCDpu8W6hztZ8R94Z8",
      "include_colab_link": true
    },
    "kernelspec": {
      "name": "python3",
      "display_name": "Python 3"
    },
    "language_info": {
      "name": "python"
    }
  },
  "cells": [
    {
      "cell_type": "markdown",
      "metadata": {
        "id": "view-in-github",
        "colab_type": "text"
      },
      "source": [
        "<a href=\"https://colab.research.google.com/github/kimkyeongmo/2021_PNUAC_AIData/blob/main/codelab1_json.ipynb\" target=\"_parent\"><img src=\"https://colab.research.google.com/assets/colab-badge.svg\" alt=\"Open In Colab\"/></a>"
      ]
    },
    {
      "cell_type": "markdown",
      "metadata": {
        "id": "0fDbnegPFwqZ"
      },
      "source": [
        "#JSON 모듈\n",
        "\n",
        "## **JSON**\n",
        "\n",
        "+ 데이터를 교환하는 포맷으로 키-값의 쌍으로 이루어진 컬렉션\n",
        "+ 데이터 포맷이 단순하고 유연함\n",
        "+ 웹 상에서 데이터를 교환하는데 많이 사용되고 있음\n",
        "\n",
        "### **Python Json 표준 라이브러리**"
      ]
    },
    {
      "cell_type": "code",
      "metadata": {
        "id": "62pOdyULGE9X"
      },
      "source": [
        "import json"
      ],
      "execution_count": null,
      "outputs": []
    },
    {
      "cell_type": "markdown",
      "metadata": {
        "id": "jsM-e6u0GWSg"
      },
      "source": [
        "## **JSON 인코딩**\n",
        "json.dumps()\n",
        "+ Python 타입의 데이터를 JSON 문자열로 변경\n",
        "+ 딕셔너리 리스트 튜플을 JSON 문자열로 변경\n",
        "+ 반환값은 JSON 표현을 갖는 문자열 (str)\n",
        "+\"intend\" 옵션\n",
        " - json 문자열을 읽기 편하게 Identation 이 적용된 문자열 반환\n",
        "\n",
        " json.dumps(파이썬자료, indent=4)\n",
        "+ 한글 처리\n",
        "  - ensure_ascii=False\n",
        "\n",
        "  json.dumps(파이썬 자료, ensure_ascii=False)"
      ]
    },
    {
      "cell_type": "code",
      "metadata": {
        "colab": {
          "base_uri": "https://localhost:8080/"
        },
        "id": "cMFB-9nSHkXy",
        "outputId": "8c95e4df-9d90-4913-9aec-cd13c5115fc5"
      },
      "source": [
        "jdata= {\n",
        "    \"request_id\": \"0\",\n",
        "    \"return_type\": \"omAnalysis\",\n",
        "    \"result\": 0,\n",
        "     \"reason\": \"\",\n",
        "     \"return_object\": {\n",
        "       \"query\": \"한국의 가을은 매우 아름답습니다.\",\n",
        "       \"type\": \"감성분석\",\n",
        "       \"score\": 0.9999995231628418,\n",
        "       \"label\": \"긍정\"\n",
        "       },\n",
        "       \"result_code\": \"success\"\n",
        "}\n",
        "print(type(jdata))"
      ],
      "execution_count": null,
      "outputs": [
        {
          "output_type": "stream",
          "text": [
            "<class 'dict'>\n"
          ],
          "name": "stdout"
        }
      ]
    },
    {
      "cell_type": "code",
      "metadata": {
        "colab": {
          "base_uri": "https://localhost:8080/",
          "height": 35
        },
        "id": "RmkGn8LkIjzo",
        "outputId": "95685a9b-0828-4d08-8fa6-498a2a66d5df"
      },
      "source": [
        "jdata[\"return_object\"]['label']"
      ],
      "execution_count": null,
      "outputs": [
        {
          "output_type": "execute_result",
          "data": {
            "application/vnd.google.colaboratory.intrinsic+json": {
              "type": "string"
            },
            "text/plain": [
              "'긍정'"
            ]
          },
          "metadata": {
            "tags": []
          },
          "execution_count": 5
        }
      ]
    },
    {
      "cell_type": "code",
      "metadata": {
        "colab": {
          "base_uri": "https://localhost:8080/"
        },
        "id": "Vu5sWx1KI3OL",
        "outputId": "fff5a08f-afb5-4d37-d27e-f6c2c8519ad7"
      },
      "source": [
        "jsonStr = json.dumps(jdata)\n",
        "print(jsonStr)\n",
        "print(type(jsonStr))"
      ],
      "execution_count": null,
      "outputs": [
        {
          "output_type": "stream",
          "text": [
            "{\"request_id\": \"0\", \"return_type\": \"omAnalysis\", \"result\": 0, \"reason\": \"\", \"return_object\": {\"query\": \"\\ud55c\\uad6d\\uc758 \\uac00\\uc744\\uc740 \\ub9e4\\uc6b0 \\uc544\\ub984\\ub2f5\\uc2b5\\ub2c8\\ub2e4.\", \"type\": \"\\uac10\\uc131\\ubd84\\uc11d\", \"score\": 0.9999995231628418, \"label\": \"\\uae0d\\uc815\"}, \"result_code\": \"success\"}\n",
            "<class 'str'>\n"
          ],
          "name": "stdout"
        }
      ]
    },
    {
      "cell_type": "code",
      "metadata": {
        "colab": {
          "base_uri": "https://localhost:8080/"
        },
        "id": "iLOm5bXXJAge",
        "outputId": "42fe410d-1f3a-480f-906a-ab78058a8e92"
      },
      "source": [
        "jsonStr = json.dumps(jdata, indent=\"\\t\")\n",
        "print(jsonStr)\n",
        "print(type(jsonStr))"
      ],
      "execution_count": null,
      "outputs": [
        {
          "output_type": "stream",
          "text": [
            "{\n",
            "\t\"request_id\": \"0\",\n",
            "\t\"return_type\": \"omAnalysis\",\n",
            "\t\"result\": 0,\n",
            "\t\"reason\": \"\",\n",
            "\t\"return_object\": {\n",
            "\t\t\"query\": \"\\ud55c\\uad6d\\uc758 \\uac00\\uc744\\uc740 \\ub9e4\\uc6b0 \\uc544\\ub984\\ub2f5\\uc2b5\\ub2c8\\ub2e4.\",\n",
            "\t\t\"type\": \"\\uac10\\uc131\\ubd84\\uc11d\",\n",
            "\t\t\"score\": 0.9999995231628418,\n",
            "\t\t\"label\": \"\\uae0d\\uc815\"\n",
            "\t},\n",
            "\t\"result_code\": \"success\"\n",
            "}\n",
            "<class 'str'>\n"
          ],
          "name": "stdout"
        }
      ]
    },
    {
      "cell_type": "code",
      "metadata": {
        "colab": {
          "base_uri": "https://localhost:8080/"
        },
        "id": "LuCDZZ48JF96",
        "outputId": "be298668-e976-439b-91e5-2669e06c7b47"
      },
      "source": [
        "jsonStr = json.dumps(jdata, indent=\"\\t\",ensure_ascii=False)\n",
        "print(jsonStr)\n",
        "print(type(jsonStr))"
      ],
      "execution_count": null,
      "outputs": [
        {
          "output_type": "stream",
          "text": [
            "{\n",
            "\t\"request_id\": \"0\",\n",
            "\t\"return_type\": \"omAnalysis\",\n",
            "\t\"result\": 0,\n",
            "\t\"reason\": \"\",\n",
            "\t\"return_object\": {\n",
            "\t\t\"query\": \"한국의 가을은 매우 아름답습니다.\",\n",
            "\t\t\"type\": \"감성분석\",\n",
            "\t\t\"score\": 0.9999995231628418,\n",
            "\t\t\"label\": \"긍정\"\n",
            "\t},\n",
            "\t\"result_code\": \"success\"\n",
            "}\n",
            "<class 'str'>\n"
          ],
          "name": "stdout"
        }
      ]
    },
    {
      "cell_type": "markdown",
      "metadata": {
        "id": "PlGOuHxDGd1R"
      },
      "source": [
        "## JSON 디코딩\n",
        "\n",
        "json.loads()\n",
        "\n",
        "+ Json 문자열을 딕셔너리 리스트 튜플과 같은 파이썬 타입으로 변경\n"
      ]
    },
    {
      "cell_type": "code",
      "metadata": {
        "colab": {
          "base_uri": "https://localhost:8080/"
        },
        "id": "N3TsWr6NJnpM",
        "outputId": "cf93d9c4-dd48-4063-bc4d-b100390a6ce4"
      },
      "source": [
        "j2=json.loads(jsonStr)\n",
        "print(j2)\n",
        "print(type(j2))"
      ],
      "execution_count": null,
      "outputs": [
        {
          "output_type": "stream",
          "text": [
            "{'request_id': '0', 'return_type': 'omAnalysis', 'result': 0, 'reason': '', 'return_object': {'query': '한국의 가을은 매우 아름답습니다.', 'type': '감성분석', 'score': 0.9999995231628418, 'label': '긍정'}, 'result_code': 'success'}\n",
            "<class 'dict'>\n"
          ],
          "name": "stdout"
        }
      ]
    },
    {
      "cell_type": "code",
      "metadata": {
        "colab": {
          "base_uri": "https://localhost:8080/",
          "height": 35
        },
        "id": "sRu6u8zTJ8kU",
        "outputId": "d6deb925-f5b8-4204-be1c-b4f991969f87"
      },
      "source": [
        "j2['return_object']['label']"
      ],
      "execution_count": null,
      "outputs": [
        {
          "output_type": "execute_result",
          "data": {
            "application/vnd.google.colaboratory.intrinsic+json": {
              "type": "string"
            },
            "text/plain": [
              "'긍정'"
            ]
          },
          "metadata": {
            "tags": []
          },
          "execution_count": 12
        }
      ]
    },
    {
      "cell_type": "code",
      "metadata": {
        "colab": {
          "base_uri": "https://localhost:8080/"
        },
        "id": "Gp3kwURsKpuz",
        "outputId": "9c2d2b8a-7c79-40b3-d3e4-067dc7f6c9be"
      },
      "source": [
        "with open('/content/data.json','r')as fp :\n",
        "  ljson=json.load(fp)\n",
        "  print(ljson)\n",
        "  print(type(ljson))"
      ],
      "execution_count": null,
      "outputs": [
        {
          "output_type": "stream",
          "text": [
            "{'request_id': '0', 'return_type': 'omAnalysis', 'result': 0, 'reason': '', 'return_object': {'query': '한국의 가을은 매우 아름답습니다.', 'type': '감성분석', 'score': 0.9999995231628418, 'label': '긍정'}, 'result_code': 'success'}\n",
            "<class 'dict'>\n"
          ],
          "name": "stdout"
        }
      ]
    },
    {
      "cell_type": "code",
      "metadata": {
        "id": "WNSjmH79ONyf"
      },
      "source": [
        "dt = {'기쁨':'\\U0001F604', '신뢰':'\\U0001F609', '공포':'\\U0001F910', '놀라움':'\\U0001F631', '슬픔':'\\U0001F620', '혐오':'\\U0001F616', '분노':'\\U0001F621', '기대':'\\U0001F9D0'}"
      ],
      "execution_count": null,
      "outputs": []
    },
    {
      "cell_type": "code",
      "metadata": {
        "id": "gXQCG_W_M7cy"
      },
      "source": [
        "result = '''\n",
        "  {\n",
        "    \"query\": \"가나다라마바사.\",\n",
        "    \"type\": \"감정분석\",\n",
        "    \"Result\": [\n",
        "        [\n",
        "            0.4484916627407074,\n",
        "            \"신뢰\"\n",
        "        ]\n",
        "    ]\n",
        "\n",
        "  }\n",
        "'''\n"
      ],
      "execution_count": null,
      "outputs": []
    },
    {
      "cell_type": "code",
      "metadata": {
        "colab": {
          "base_uri": "https://localhost:8080/"
        },
        "id": "sNaQdBBxNYUt",
        "outputId": "c409134a-040b-434b-8797-7b4e6d7e8086"
      },
      "source": [
        "jresult=json.loads(result)\n",
        "print(type(jresult))\n",
        "print(jresult)"
      ],
      "execution_count": null,
      "outputs": [
        {
          "output_type": "stream",
          "text": [
            "<class 'dict'>\n",
            "{'query': '가나다라마바사.', 'type': '감정분석', 'Result': [[0.4484916627407074, '신뢰']]}\n"
          ],
          "name": "stdout"
        }
      ]
    },
    {
      "cell_type": "code",
      "metadata": {
        "colab": {
          "base_uri": "https://localhost:8080/"
        },
        "id": "KxfbUSDqNh0o",
        "outputId": "e4abac32-f8b7-4772-e6b3-b5af15c8c172"
      },
      "source": [
        "print(f\"{dt[jresult['Result'][0][1]]}{jresult['query']} : {jresult['Result'][0][1]} {jresult['Result'][0][0]*100:.2f}%\")"
      ],
      "execution_count": null,
      "outputs": [
        {
          "output_type": "stream",
          "text": [
            "😉가나다라마바사. : 신뢰 44.85%\n"
          ],
          "name": "stdout"
        }
      ]
    }
  ]
}