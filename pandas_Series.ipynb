{
  "nbformat": 4,
  "nbformat_minor": 0,
  "metadata": {
    "colab": {
      "name": "pandas.Series.ipynb",
      "provenance": [],
      "collapsed_sections": [],
      "authorship_tag": "ABX9TyNcdHcuDpEPFXYoUK5caYch",
      "include_colab_link": true
    },
    "kernelspec": {
      "name": "python3",
      "display_name": "Python 3"
    },
    "language_info": {
      "name": "python"
    }
  },
  "cells": [
    {
      "cell_type": "markdown",
      "metadata": {
        "id": "view-in-github",
        "colab_type": "text"
      },
      "source": [
        "<a href=\"https://colab.research.google.com/github/kimkyeongmo/2021_PNUAC_AIData/blob/main/pandas_Series.ipynb\" target=\"_parent\"><img src=\"https://colab.research.google.com/assets/colab-badge.svg\" alt=\"Open In Colab\"/></a>"
      ]
    },
    {
      "cell_type": "markdown",
      "metadata": {
        "id": "n7AH9wRWhIgm"
      },
      "source": [
        "## **파이썬에서 사용하는 데이터분석 라이브러리**\n",
        "+ 행과 열로 이루어진 데이터 객체를 만들어 다룰 수 있게 되며 보다 안정적으로 대용량의 데이터들을 처리하는데 매우 편리한 도구\n",
        "+ NumPy를 기반으로 구축되었으며 과학 컴퓨팅 환경 내에서 다른 많은 타사 라이브러리와 잘 통합되도록 설계\n",
        "+ 많은 기능을 가진 데이터 구조\n",
        " - 다양한 방식으로 색인된 데이터를 다룰 수 있는 기능\n",
        " - 시계열 데이터와 비시계열 데이터를 함께 다룰 수 있는 통합 자료 구조\n",
        " - 누락된 데이터를 유연하게 처리 할 수 있는 기능\n",
        " - sql같은 일반 데이터베이스 처럼 데이터를 합치고 관계연산을 수행하는 기능\n",
        " "
      ]
    },
    {
      "cell_type": "markdown",
      "metadata": {
        "id": "9Snr0jSEhkhm"
      },
      "source": [
        "### **pandas 자료 구조**\n",
        "+ Series\n",
        " - 1차원 자료 구조\n",
        " - index로 value를 구분하는 1차원 자료 구조\n",
        "+ DataFrame\n",
        " - 2차원 자료구조\n",
        " - DataFrame는 행과 열이 있는 테이블 데이터\n",
        " "
      ]
    },
    {
      "cell_type": "markdown",
      "metadata": {
        "id": "eIsHKw-ah5ZB"
      },
      "source": [
        "#### pandas 라이브러리 추가"
      ]
    },
    {
      "cell_type": "code",
      "metadata": {
        "id": "qZtIUvTjhG9i"
      },
      "source": [
        "import pandas as pd"
      ],
      "execution_count": null,
      "outputs": []
    },
    {
      "cell_type": "markdown",
      "metadata": {
        "id": "-rQgS2bAiGqE"
      },
      "source": [
        "## **리스트(list)를 시리즈(Series) 변경**\n",
        "\n",
        "### pd.Series()"
      ]
    },
    {
      "cell_type": "code",
      "metadata": {
        "colab": {
          "base_uri": "https://localhost:8080/"
        },
        "id": "Qili4prriWi1",
        "outputId": "94c2e929-a674-4590-e866-e564b818d328"
      },
      "source": [
        "lt = [4.1, 5.5, 9.0, 15.0, 19.0, 21.3]\n",
        "slt = pd.Series(lt)\n",
        "print(slt)"
      ],
      "execution_count": null,
      "outputs": [
        {
          "output_type": "stream",
          "text": [
            "0     4.1\n",
            "1     5.5\n",
            "2     9.0\n",
            "3    15.0\n",
            "4    19.0\n",
            "5    21.3\n",
            "dtype: float64\n"
          ],
          "name": "stdout"
        }
      ]
    },
    {
      "cell_type": "markdown",
      "metadata": {
        "id": "TRjUZf7ailgf"
      },
      "source": [
        "#리스트를 시리즈로 변경하기"
      ]
    },
    {
      "cell_type": "code",
      "metadata": {
        "colab": {
          "base_uri": "https://localhost:8080/"
        },
        "id": "g8BGH_0disQo",
        "outputId": "f3efd05a-69a8-4fcf-fa31-f2ca2aa5e66b"
      },
      "source": [
        "print(type(slt))"
      ],
      "execution_count": null,
      "outputs": [
        {
          "output_type": "stream",
          "text": [
            "<class 'pandas.core.series.Series'>\n"
          ],
          "name": "stdout"
        }
      ]
    },
    {
      "cell_type": "markdown",
      "metadata": {
        "id": "K3OeLGIJiyOH"
      },
      "source": [
        "#시리즈의 3번째 요소가져오기\n",
        "\n",
        "#### 리스트를 변경한 series index, values\n",
        "\n"
      ]
    },
    {
      "cell_type": "code",
      "metadata": {
        "colab": {
          "base_uri": "https://localhost:8080/"
        },
        "id": "CW6mxB9ui-0s",
        "outputId": "7eaf9dfa-20c0-419b-bdcf-e5482d055c42"
      },
      "source": [
        "print(slt.index)\n",
        "print(slt.keys())\n",
        "print(slt.values)"
      ],
      "execution_count": null,
      "outputs": [
        {
          "output_type": "stream",
          "text": [
            "RangeIndex(start=0, stop=6, step=1)\n",
            "RangeIndex(start=0, stop=6, step=1)\n",
            "[ 4.1  5.5  9.  15.  19.  21.3]\n"
          ],
          "name": "stdout"
        }
      ]
    },
    {
      "cell_type": "markdown",
      "metadata": {
        "id": "zzW1s1LAjJAL"
      },
      "source": [
        "### **딕션너리(dictionary)를 시리즈(Series)로 변경\n",
        "\n",
        "####pd.Series()\n"
      ]
    },
    {
      "cell_type": "code",
      "metadata": {
        "colab": {
          "base_uri": "https://localhost:8080/"
        },
        "id": "ponBQovkjMdg",
        "outputId": "dd5bdd0b-8ce5-47c8-e2e8-77374e91c8df"
      },
      "source": [
        "dt = {'1월':4.1, '2월':5.5, '3월':9.0, '4월':15.0, '5월':19.0 ,'6월':21.3}\n",
        "sdt=pd.Series(dt)\n",
        "print(sdt)"
      ],
      "execution_count": null,
      "outputs": [
        {
          "output_type": "stream",
          "text": [
            "1월     4.1\n",
            "2월     5.5\n",
            "3월     9.0\n",
            "4월    15.0\n",
            "5월    19.0\n",
            "6월    21.3\n",
            "dtype: float64\n"
          ],
          "name": "stdout"
        }
      ]
    },
    {
      "cell_type": "code",
      "metadata": {
        "colab": {
          "base_uri": "https://localhost:8080/"
        },
        "id": "e4UG9ZpHjZv1",
        "outputId": "614c7575-1d88-4295-bf15-8a1cde1456f2"
      },
      "source": [
        "print(sdt.index)\n",
        "print(sdt.keys())\n",
        "print(sdt.values)"
      ],
      "execution_count": null,
      "outputs": [
        {
          "output_type": "stream",
          "text": [
            "Index(['1월', '2월', '3월', '4월', '5월', '6월'], dtype='object')\n",
            "Index(['1월', '2월', '3월', '4월', '5월', '6월'], dtype='object')\n",
            "[ 4.1  5.5  9.  15.  19.  21.3]\n"
          ],
          "name": "stdout"
        }
      ]
    },
    {
      "cell_type": "code",
      "metadata": {
        "colab": {
          "base_uri": "https://localhost:8080/"
        },
        "id": "Dspr6grNjeL9",
        "outputId": "0307b07b-5899-4409-a529-56c7afb95a0b"
      },
      "source": [
        "sdt['3월']"
      ],
      "execution_count": null,
      "outputs": [
        {
          "output_type": "execute_result",
          "data": {
            "text/plain": [
              "9.0"
            ]
          },
          "metadata": {
            "tags": []
          },
          "execution_count": 8
        }
      ]
    },
    {
      "cell_type": "markdown",
      "metadata": {
        "id": "H7r_S0_Ujk7C"
      },
      "source": [
        "### **시리즈(Series) 인덱스(index) 변경하기**"
      ]
    },
    {
      "cell_type": "code",
      "metadata": {
        "id": "I0y33IjzjtOl"
      },
      "source": [
        "ltk = ['1월', '2월', '3월', '4월', '5월', '6월']\n",
        "lt = [4.1, 5.5, 9.0, 15.0, 19.0 ,21.3]"
      ],
      "execution_count": null,
      "outputs": []
    },
    {
      "cell_type": "code",
      "metadata": {
        "colab": {
          "base_uri": "https://localhost:8080/"
        },
        "id": "MOCsM_IOj3tV",
        "outputId": "7495a22a-0503-4b7b-9f5a-227ebfd36a6a"
      },
      "source": [
        "slt=pd.Series(lt, index=ltk)\n",
        "print(slt)"
      ],
      "execution_count": null,
      "outputs": [
        {
          "output_type": "stream",
          "text": [
            "1월     4.1\n",
            "2월     5.5\n",
            "3월     9.0\n",
            "4월    15.0\n",
            "5월    19.0\n",
            "6월    21.3\n",
            "dtype: float64\n"
          ],
          "name": "stdout"
        }
      ]
    },
    {
      "cell_type": "markdown",
      "metadata": {
        "id": "wUFRzPyej-OP"
      },
      "source": [
        "#### 생성 후 변경하기"
      ]
    },
    {
      "cell_type": "code",
      "metadata": {
        "colab": {
          "base_uri": "https://localhost:8080/"
        },
        "id": "EyeidiwQkAG0",
        "outputId": "8b57d4ba-8a35-4a67-ffa6-8ff439648489"
      },
      "source": [
        "slt=pd.Series(lt)\n",
        "print(slt)"
      ],
      "execution_count": null,
      "outputs": [
        {
          "output_type": "stream",
          "text": [
            "0     4.1\n",
            "1     5.5\n",
            "2     9.0\n",
            "3    15.0\n",
            "4    19.0\n",
            "5    21.3\n",
            "dtype: float64\n"
          ],
          "name": "stdout"
        }
      ]
    },
    {
      "cell_type": "code",
      "metadata": {
        "colab": {
          "base_uri": "https://localhost:8080/"
        },
        "id": "xu3p_3KmkJFI",
        "outputId": "081c8d72-3b64-4a42-8aac-f4c0ebea9df2"
      },
      "source": [
        "slt.index=ltk\n",
        "print(slt)"
      ],
      "execution_count": null,
      "outputs": [
        {
          "output_type": "stream",
          "text": [
            "1월     4.1\n",
            "2월     5.5\n",
            "3월     9.0\n",
            "4월    15.0\n",
            "5월    19.0\n",
            "6월    21.3\n",
            "dtype: float64\n"
          ],
          "name": "stdout"
        }
      ]
    },
    {
      "cell_type": "markdown",
      "metadata": {
        "id": "DaOBHu3FkEQ4"
      },
      "source": [
        "### 시리즈 인덱싱\n",
        "\n",
        "+ 인덱스를 가지고 시리즈에서 특정 항목 추출\n",
        "리스트랑 딕셔너리랑 동일 "
      ]
    },
    {
      "cell_type": "markdown",
      "metadata": {
        "id": "kLylYTEukYoO"
      },
      "source": [
        "### 시리즈 슬라이싱\n",
        "+ 시리즈 일부를 추출하여 시리즈로 변호나\n",
        "+ 콜론 쉼표 사용\n",
        "+ 조건 사용\n"
      ]
    },
    {
      "cell_type": "code",
      "metadata": {
        "colab": {
          "base_uri": "https://localhost:8080/"
        },
        "id": "zqHsaia5kdjZ",
        "outputId": "528a4560-434c-433c-9bf0-55356ae7698b"
      },
      "source": [
        "sub1= slt[1:3]\n",
        "print(sub1)"
      ],
      "execution_count": null,
      "outputs": [
        {
          "output_type": "stream",
          "text": [
            "2월    5.5\n",
            "3월    9.0\n",
            "dtype: float64\n"
          ],
          "name": "stdout"
        }
      ]
    },
    {
      "cell_type": "code",
      "metadata": {
        "colab": {
          "base_uri": "https://localhost:8080/"
        },
        "id": "qH5PyWCnkpiF",
        "outputId": "dfde9014-4107-46ac-f55d-66e472596c26"
      },
      "source": [
        "sub1= slt['1월':'3월']\n",
        "print(sub1)"
      ],
      "execution_count": null,
      "outputs": [
        {
          "output_type": "stream",
          "text": [
            "1월    4.1\n",
            "2월    5.5\n",
            "3월    9.0\n",
            "dtype: float64\n"
          ],
          "name": "stdout"
        }
      ]
    },
    {
      "cell_type": "code",
      "metadata": {
        "colab": {
          "base_uri": "https://localhost:8080/"
        },
        "id": "kbQkdaubkvj0",
        "outputId": "ed853fa1-69ab-4887-cbbc-2b4ddc1cc6d5"
      },
      "source": [
        "sub1= slt[[1,3,5]]\n",
        "print(sub1)"
      ],
      "execution_count": null,
      "outputs": [
        {
          "output_type": "stream",
          "text": [
            "2월     5.5\n",
            "4월    15.0\n",
            "6월    21.3\n",
            "dtype: float64\n"
          ],
          "name": "stdout"
        }
      ]
    },
    {
      "cell_type": "markdown",
      "metadata": {
        "id": "BFCxLs7FkumJ"
      },
      "source": [
        "#### 조건 사용\n",
        "\n"
      ]
    },
    {
      "cell_type": "code",
      "metadata": {
        "colab": {
          "base_uri": "https://localhost:8080/"
        },
        "id": "4hc4xBU2k5_9",
        "outputId": "83ba637b-a785-4b7f-c332-cb1c1b49889b"
      },
      "source": [
        "slt > 10"
      ],
      "execution_count": null,
      "outputs": [
        {
          "output_type": "execute_result",
          "data": {
            "text/plain": [
              "1월    False\n",
              "2월    False\n",
              "3월    False\n",
              "4월     True\n",
              "5월     True\n",
              "6월     True\n",
              "dtype: bool"
            ]
          },
          "metadata": {
            "tags": []
          },
          "execution_count": 18
        }
      ]
    },
    {
      "cell_type": "code",
      "metadata": {
        "colab": {
          "base_uri": "https://localhost:8080/"
        },
        "id": "a_4I-KGrk97J",
        "outputId": "834ad7f7-92c8-4417-9d61-d9e69db69363"
      },
      "source": [
        "slt[slt>10]"
      ],
      "execution_count": null,
      "outputs": [
        {
          "output_type": "execute_result",
          "data": {
            "text/plain": [
              "4월    15.0\n",
              "5월    19.0\n",
              "6월    21.3\n",
              "dtype: float64"
            ]
          },
          "metadata": {
            "tags": []
          },
          "execution_count": 19
        }
      ]
    },
    {
      "cell_type": "markdown",
      "metadata": {
        "id": "6s9nq15AlLPb"
      },
      "source": [
        "## 시리즈 연산\n",
        "+ 시리즈 길이가 같고 인덱스가 같은 것 끼리 연산\n",
        " - 더하기 각 더하기\n",
        " - 곱하기 각 곱하기\n",
        "+ 단 인덱스 , 키값이 같이야지 연산이 된다."
      ]
    },
    {
      "cell_type": "markdown",
      "metadata": {
        "id": "klCB9QLglbEz"
      },
      "source": [
        "### **시리즈(Series) 기본 조회와 기초 통계 메소드**\n",
        "* head(n) : 상위 n개 조회, n생략 시 5개 조회\n",
        "+ tail(n) : 하위 n개 조회, n생략 시 5개 조회\n",
        "+ describe() : 요약 통계량 계산\n",
        "+ mean() : 평균\n",
        "+ max() : 최대\n",
        "+ min() : 최소\n",
        "+ std()  : 표준편차"
      ]
    },
    {
      "cell_type": "markdown",
      "metadata": {
        "id": "bShPEqxZl1KV"
      },
      "source": [
        "### **자주 사용되는 메소드**\n",
        "+ equals() : 시리즈와 시리즈가 같은지 비교, 키와 값이 모두 같아야 함\n",
        "+ replace() : 특정값을 가진 요소 값을 변경\n",
        "+ isin() : 시리즈에 포함된 값이 있는지 확인\n",
        "+ drop_duplicates() : 중복값이 없는 시리즈 반환\n",
        "+ append() : 2개이상의 시리즈 연결\n",
        "+ sort_index(ascending=True) : 인덱스로 정렬\n",
        "+ sort_values(ascending=False) : 값으로 정렬\n",
        "+ to_frame() : 시리즈를 데이터프레임으로 변경\n",
        "\n"
      ]
    },
    {
      "cell_type": "markdown",
      "metadata": {
        "id": "-dfmEnZCwd2P"
      },
      "source": [
        "### 1번"
      ]
    },
    {
      "cell_type": "code",
      "metadata": {
        "colab": {
          "base_uri": "https://localhost:8080/"
        },
        "id": "qzXXqcb-nAn5",
        "outputId": "653b1837-69ac-44bb-e02a-9160a427f658"
      },
      "source": [
        "import pandas as pd\n",
        "dt = {'국어국문학과':7,'중어중문학과':4,'일어일문학과':8,'영어영문학과':30,'불어불문학과':5,'독어독문학과':4,'노어노문학과':5,'한문학과':6,'언어정보학과':3,'사학과':7,'철학과':5,'고고학과':9}\n",
        "dt=pd.Series(dt)\n",
        "dt"
      ],
      "execution_count": null,
      "outputs": [
        {
          "output_type": "execute_result",
          "data": {
            "text/plain": [
              "국어국문학과     7\n",
              "중어중문학과     4\n",
              "일어일문학과     8\n",
              "영어영문학과    30\n",
              "불어불문학과     5\n",
              "독어독문학과     4\n",
              "노어노문학과     5\n",
              "한문학과       6\n",
              "언어정보학과     3\n",
              "사학과        7\n",
              "철학과        5\n",
              "고고학과       9\n",
              "dtype: int64"
            ]
          },
          "metadata": {
            "tags": []
          },
          "execution_count": 106
        }
      ]
    },
    {
      "cell_type": "markdown",
      "metadata": {
        "id": "cTAFsfsswgYT"
      },
      "source": [
        "### 2번"
      ]
    },
    {
      "cell_type": "code",
      "metadata": {
        "colab": {
          "base_uri": "https://localhost:8080/"
        },
        "id": "ncrKr2mnwb_w",
        "outputId": "2f423fe4-11a6-46b7-a6d2-fd9666ebc859"
      },
      "source": [
        "import pandas as pd\n",
        "dt = {'국어국문학과':7,'중어중문학과':4,'일어일문학과':8,'영어영문학과':30,'불어불문학과':5,'독어독문학과':4,'노어노문학과':5,'한문학과':6,'언어정보학과':3,'사학과':7,'철학과':5,'고고학과':9}\n",
        "dt=pd.Series(dt)\n",
        "dt_index=dt.index\n",
        "#print(type(dt_index))\n",
        "while(True):\n",
        "  i=0\n",
        "  print(\"학과 입력 =>\")\n",
        "  Str_N=input(\"\")\n",
        "  for i in range(0,len(dt)):\n",
        "    if dt_index[i]==Str_N:\n",
        "      print(\"%s 추가 합격 순위 : %d번\"%(dt_index[i],dt[i]))\n",
        "      break;\n",
        "    else:\n",
        "      i+=1\n",
        "      if i==len(dt):\n",
        "        print(\"해당학과는 존재하지 않습니다\")\n",
        "        break;\n",
        "  ans=input(\"종료하시겠습니까?(종료:y)\")\n",
        "  if ans == 'y':\n",
        "    break\n",
        "  else:\n",
        "    continue"
      ],
      "execution_count": null,
      "outputs": [
        {
          "output_type": "stream",
          "text": [
            "학과 입력 =>\n",
            "국어국문학과\n",
            "국어국문학과 추가 합격 순위 : 7번\n",
            "종료하시겠습니까?(종료:y)n\n",
            "학과 입력 =>\n",
            "국어궁문학과\n",
            "해당학과는 존재하지 않습니다\n",
            "종료하시겠습니까?(종료:y)y\n"
          ],
          "name": "stdout"
        }
      ]
    },
    {
      "cell_type": "markdown",
      "metadata": {
        "id": "wqzoa9Qa4Jyz"
      },
      "source": [
        "#### 3번\n"
      ]
    },
    {
      "cell_type": "code",
      "metadata": {
        "colab": {
          "base_uri": "https://localhost:8080/",
          "height": 475
        },
        "id": "RMDslHtq16j9",
        "outputId": "de074a13-febe-4e55-9434-0163c1ea1f94"
      },
      "source": [
        "import pandas as pd\n",
        "dt = {'국어국문학과':7,'중어중문학과':4,'일어일문학과':8,'영어영문학과':30,'불어불문학과':5,'독어독문학과':4,'노어노문학과':5,'한문학과':6,'언어정보학과':3,'사학과':7,'철학과':5,'고고학과':9}\n",
        "dt=pd.Series(dt)\n",
        "print(\"조건식을 이용하는 방법\")\n",
        "print(dt[dt<4])\n",
        "print(dt[dt>19])\n",
        "\n",
        "print(dt[dt>19|dt<4])\n",
        "\n",
        "print(\"메서드를 이용하는 방법\")\n",
        "#이건 모르겟다;;;;"
      ],
      "execution_count": null,
      "outputs": [
        {
          "output_type": "stream",
          "text": [
            "조건식을 이용하는 방법\n",
            "언어정보학과    3\n",
            "dtype: int64\n",
            "영어영문학과    30\n",
            "dtype: int64\n"
          ],
          "name": "stdout"
        },
        {
          "output_type": "error",
          "ename": "ValueError",
          "evalue": "ignored",
          "traceback": [
            "\u001b[0;31m---------------------------------------------------------------------------\u001b[0m",
            "\u001b[0;31mValueError\u001b[0m                                Traceback (most recent call last)",
            "\u001b[0;32m<ipython-input-9-ecc084e0f415>\u001b[0m in \u001b[0;36m<module>\u001b[0;34m()\u001b[0m\n\u001b[1;32m      6\u001b[0m \u001b[0mprint\u001b[0m\u001b[0;34m(\u001b[0m\u001b[0mdt\u001b[0m\u001b[0;34m[\u001b[0m\u001b[0mdt\u001b[0m\u001b[0;34m>\u001b[0m\u001b[0;36m19\u001b[0m\u001b[0;34m]\u001b[0m\u001b[0;34m)\u001b[0m\u001b[0;34m\u001b[0m\u001b[0;34m\u001b[0m\u001b[0m\n\u001b[1;32m      7\u001b[0m \u001b[0;34m\u001b[0m\u001b[0m\n\u001b[0;32m----> 8\u001b[0;31m \u001b[0mprint\u001b[0m\u001b[0;34m(\u001b[0m\u001b[0mdt\u001b[0m\u001b[0;34m[\u001b[0m\u001b[0mdt\u001b[0m\u001b[0;34m>\u001b[0m\u001b[0;36m19\u001b[0m\u001b[0;34m|\u001b[0m\u001b[0mdt\u001b[0m\u001b[0;34m<\u001b[0m\u001b[0;36m4\u001b[0m\u001b[0;34m]\u001b[0m\u001b[0;34m)\u001b[0m\u001b[0;34m\u001b[0m\u001b[0;34m\u001b[0m\u001b[0m\n\u001b[0m\u001b[1;32m      9\u001b[0m \u001b[0;34m\u001b[0m\u001b[0m\n\u001b[1;32m     10\u001b[0m \u001b[0mprint\u001b[0m\u001b[0;34m(\u001b[0m\u001b[0;34m\"메서드를 이용하는 방법\"\u001b[0m\u001b[0;34m)\u001b[0m\u001b[0;34m\u001b[0m\u001b[0;34m\u001b[0m\u001b[0m\n",
            "\u001b[0;32m/usr/local/lib/python3.7/dist-packages/pandas/core/generic.py\u001b[0m in \u001b[0;36m__nonzero__\u001b[0;34m(self)\u001b[0m\n\u001b[1;32m   1328\u001b[0m     \u001b[0;32mdef\u001b[0m \u001b[0m__nonzero__\u001b[0m\u001b[0;34m(\u001b[0m\u001b[0mself\u001b[0m\u001b[0;34m)\u001b[0m\u001b[0;34m:\u001b[0m\u001b[0;34m\u001b[0m\u001b[0;34m\u001b[0m\u001b[0m\n\u001b[1;32m   1329\u001b[0m         raise ValueError(\n\u001b[0;32m-> 1330\u001b[0;31m             \u001b[0;34mf\"The truth value of a {type(self).__name__} is ambiguous. \"\u001b[0m\u001b[0;34m\u001b[0m\u001b[0;34m\u001b[0m\u001b[0m\n\u001b[0m\u001b[1;32m   1331\u001b[0m             \u001b[0;34m\"Use a.empty, a.bool(), a.item(), a.any() or a.all().\"\u001b[0m\u001b[0;34m\u001b[0m\u001b[0;34m\u001b[0m\u001b[0m\n\u001b[1;32m   1332\u001b[0m         )\n",
            "\u001b[0;31mValueError\u001b[0m: The truth value of a Series is ambiguous. Use a.empty, a.bool(), a.item(), a.any() or a.all()."
          ]
        }
      ]
    },
    {
      "cell_type": "markdown",
      "metadata": {
        "id": "uMbpPmzd4O1c"
      },
      "source": [
        "#### 4번"
      ]
    },
    {
      "cell_type": "code",
      "metadata": {
        "colab": {
          "base_uri": "https://localhost:8080/"
        },
        "id": "qLvLOr_j4Q7a",
        "outputId": "8821e454-f561-481b-c5b2-96672727d3cc"
      },
      "source": [
        "import pandas as pd\n",
        "dt = {'국어국문학과':7,'중어중문학과':4,'일어일문학과':8,'영어영문학과':30,'불어불문학과':5,'독어독문학과':4,'노어노문학과':5,'한문학과':6,'언어정보학과':3,'사학과':7,'철학과':5,'고고학과':9}\n",
        "dt=pd.Series(dt)\n",
        "j=0\n",
        "for i in range(0,len(dt)):\n",
        "  j+=dt[i]\n",
        "j/=len(dt)\n",
        "j=int(j)\n",
        "print( \"평균 추가 합격 순위 : %d위\"%(j))"
      ],
      "execution_count": null,
      "outputs": [
        {
          "output_type": "stream",
          "text": [
            "평균 추가 합격 순위 : 7위\n"
          ],
          "name": "stdout"
        }
      ]
    },
    {
      "cell_type": "markdown",
      "metadata": {
        "id": "wTXEt3Nz96pd"
      },
      "source": [
        "#### 5번"
      ]
    },
    {
      "cell_type": "code",
      "metadata": {
        "colab": {
          "base_uri": "https://localhost:8080/"
        },
        "id": "K2yuSh1O-ODX",
        "outputId": "3e8df04e-75f5-4927-865d-e25d42fee23d"
      },
      "source": [
        "import pandas as pd\n",
        "dt = {'국어국문학과':7,'중어중문학과':4,'일어일문학과':8,'영어영문학과':30,'불어불문학과':5,'독어독문학과':4,'노어노문학과':5,'한문학과':6,'언어정보학과':3,'사학과':7,'철학과':5,'고고학과':9}\n",
        "dt=pd.Series(dt)\n",
        "dt_result2=dt.sort_index()\n",
        "dt_result2"
      ],
      "execution_count": null,
      "outputs": [
        {
          "output_type": "execute_result",
          "data": {
            "text/plain": [
              "고고학과       9\n",
              "국어국문학과     7\n",
              "노어노문학과     5\n",
              "독어독문학과     4\n",
              "불어불문학과     5\n",
              "사학과        7\n",
              "언어정보학과     3\n",
              "영어영문학과    30\n",
              "일어일문학과     8\n",
              "중어중문학과     4\n",
              "철학과        5\n",
              "한문학과       6\n",
              "dtype: int64"
            ]
          },
          "metadata": {
            "tags": []
          },
          "execution_count": 110
        }
      ]
    },
    {
      "cell_type": "code",
      "metadata": {
        "colab": {
          "base_uri": "https://localhost:8080/"
        },
        "id": "7LkIqthAkBED",
        "outputId": "b47d51e1-799f-4ec2-ea38-edc83928cd3c"
      },
      "source": [
        "import pandas as pd\n",
        "dt = {'국어국문학과':7,'중어중문학과':4,'일어일문학과':8,'영어영문학과':30,'불어불문학과':5,'독어독문학과':4,'노어노문학과':5,'한문학과':6,'언어정보학과':3,'사학과':7,'철학과':5,'고고학과':9}\n",
        "dt=pd.Series(dt)\n",
        "dt_result2=dt.sort_index()\n",
        "dt_result2=dt_result2.sort_values()\n",
        "dt_result2"
      ],
      "execution_count": null,
      "outputs": [
        {
          "output_type": "execute_result",
          "data": {
            "text/plain": [
              "언어정보학과     3\n",
              "독어독문학과     4\n",
              "중어중문학과     4\n",
              "노어노문학과     5\n",
              "불어불문학과     5\n",
              "철학과        5\n",
              "한문학과       6\n",
              "국어국문학과     7\n",
              "사학과        7\n",
              "일어일문학과     8\n",
              "고고학과       9\n",
              "영어영문학과    30\n",
              "dtype: int64"
            ]
          },
          "metadata": {
            "tags": []
          },
          "execution_count": 7
        }
      ]
    }
  ]
}