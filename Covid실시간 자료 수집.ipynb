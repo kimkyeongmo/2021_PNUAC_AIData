{
  "nbformat": 4,
  "nbformat_minor": 0,
  "metadata": {
    "colab": {
      "provenance": []
    },
    "kernelspec": {
      "name": "python3",
      "display_name": "Python 3"
    },
    "language_info": {
      "name": "python"
    }
  },
  "cells": [
    {
      "cell_type": "markdown",
      "source": [
        "#2021_PNUAC_AIData \n",
        "\n",
        "<h2> 첫번째 과제\n",
        "<h3> 웹사이트 크롤링을 통해 자료 수집\n",
        "<h4> Covid- 누적 및 실시간 현황 자료 수집"
      ],
      "metadata": {
        "id": "nfKr8pSJ8ILU"
      }
    },
    {
      "cell_type": "code",
      "metadata": {
        "colab": {
          "base_uri": "https://localhost:8080/"
        },
        "id": "4PiId7jiZVlK",
        "outputId": "ddcacea1-cd44-4db4-e000-ced13ffd7ac2"
      },
      "source": [
        "from urllib.request import urlopen\n",
        "from bs4 import BeautifulSoup as bs\n",
        "url = \"https://www.busan.go.kr/covid19/Corona19.do\"\n",
        "webpage = urlopen(url).read().decode('utf-8')\n",
        "webpage[:2000]\n",
        "html = bs(webpage, \"html.parser\")\n",
        "\n",
        "lis = html.select('#covid-state-area > div > div.covid-state-chart > ul > li')\n",
        "#print(type(html), len(lis))\n",
        "#print(lis[0])\n",
        "\n",
        "for li in lis:\n",
        "   title = li.select_one('.covid-state-title > span ').text\n",
        "   num = li.select_one('.covid-state-count > span > strong  ').text.replace('\"','')\n",
        "   print(title)\n",
        "   print(num)\n",
        "\n"
      ],
      "execution_count": null,
      "outputs": [
        {
          "output_type": "stream",
          "text": [
            "신규확진자\n",
            "62\n",
            "격리해제 (퇴원)\n",
            "22\n",
            "치료중 (격리중)\n",
            "407\n",
            "사 망\n",
            "0\n"
          ],
          "name": "stdout"
        }
      ]
    }
  ]
}